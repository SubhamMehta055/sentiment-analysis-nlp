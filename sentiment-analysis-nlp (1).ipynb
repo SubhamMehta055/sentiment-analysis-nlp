{
 "cells": [
  {
   "cell_type": "markdown",
   "id": "ca454e0d-9049-4423-b531-0ea732f2a09d",
   "metadata": {},
   "source": [
    "## Sentiment Analysis using NLTK"
   ]
  },
  {
   "cell_type": "raw",
   "id": "cc829175-48d1-481b-9b3f-384eb0cf6e10",
   "metadata": {},
   "source": [
    "Sentiment analysis, often referred to as \"opinion mining,\" is a natural language processing (NLP) technique used to determine the emotional tone of text data.\n",
    "At its core, sentiment analysis is about interpreting the subjective emotional content in text data. It can help businesses and individuals understand the \"sentiment\" expressed by users in:\n",
    "\n",
    "Social media posts\n",
    "Customer feedback\n",
    "Product reviews\n",
    "Comments on blogs or forums"
   ]
  },
  {
   "cell_type": "markdown",
   "id": "836e64dd-eea2-4847-b51a-d08deb05e9bf",
   "metadata": {},
   "source": [
    "In sentiment analysis, the main task is to identify opinion words, which is very important. Opinion words are dominant indicators of feelings, especially adjectives, adverbs, and verbs, for example: “I love this camera. It’s amazing!”\n",
    "\n",
    "Opinion words are also known as polarity words, sentiment words, opinion lexicon, or opinion words, which can generally be divided into two types: positive words, for example, wonderful. , elegant, astonishing; and negative words, eg horrible, disgusting, poor."
   ]
  },
  {
   "cell_type": "markdown",
   "id": "61454861-7bc3-47d3-8125-68424f0076be",
   "metadata": {},
   "source": [
    "### Data loading"
   ]
  },
  {
   "cell_type": "code",
   "execution_count": 4,
   "id": "1a9af29f-1332-454c-963b-1e73a7125064",
   "metadata": {},
   "outputs": [],
   "source": [
    "import pandas as pd\n",
    "import numpy as np\n",
    "import matplotlib.pyplot as plt\n",
    "import seaborn as sns"
   ]
  },
  {
   "cell_type": "code",
   "execution_count": 5,
   "id": "9d6510d3-bd85-43f0-a7d3-eea62f5c8ac1",
   "metadata": {},
   "outputs": [],
   "source": [
    "import pandas as pd\n",
    "\n",
    "# Load your dataset\n",
    "\n",
    "df = pd.read_csv('train_data.csv')\n",
    "\n",
    "# Separate data by label\n",
    "df_label_0 = df[df['label'] == 0].sample(5000, random_state=42)\n",
    "df_label_1 = df[df['label'] == 1].sample(5000, random_state=42)\n",
    "\n",
    "# Combine and shuffle the data\n",
    "data= pd.concat([df_label_0, df_label_1]).sample(frac=1, random_state=42).reset_index(drop=True)\n"
   ]
  },
  {
   "cell_type": "code",
   "execution_count": 6,
   "id": "a85a3c92-6bb9-40fe-b27c-8905840c9c91",
   "metadata": {},
   "outputs": [
    {
     "data": {
      "text/plain": [
       "(10000, 2)"
      ]
     },
     "execution_count": 6,
     "metadata": {},
     "output_type": "execute_result"
    }
   ],
   "source": [
    "data.shape"
   ]
  },
  {
   "cell_type": "code",
   "execution_count": 7,
   "id": "91fb80d2-401a-4920-b492-5a64251c4c75",
   "metadata": {},
   "outputs": [
    {
     "name": "stdout",
     "output_type": "stream",
     "text": [
      "<class 'pandas.core.frame.DataFrame'>\n",
      "RangeIndex: 10000 entries, 0 to 9999\n",
      "Data columns (total 2 columns):\n",
      " #   Column  Non-Null Count  Dtype \n",
      "---  ------  --------------  ----- \n",
      " 0   text    9995 non-null   object\n",
      " 1   label   10000 non-null  int64 \n",
      "dtypes: int64(1), object(1)\n",
      "memory usage: 156.4+ KB\n"
     ]
    }
   ],
   "source": [
    "data.info()"
   ]
  },
  {
   "cell_type": "markdown",
   "id": "4da30dc6-a0d2-4901-b0af-cbf9d005585e",
   "metadata": {},
   "source": [
    "### Handling imbalanced dataset"
   ]
  },
  {
   "cell_type": "code",
   "execution_count": 9,
   "id": "69dc2407-7326-4722-a49e-8b37d591873d",
   "metadata": {},
   "outputs": [
    {
     "data": {
      "text/plain": [
       "label\n",
       "1    5000\n",
       "0    5000\n",
       "Name: count, dtype: int64"
      ]
     },
     "execution_count": 9,
     "metadata": {},
     "output_type": "execute_result"
    }
   ],
   "source": [
    "data['label'].value_counts()"
   ]
  },
  {
   "cell_type": "code",
   "execution_count": 10,
   "id": "aa0242ab-0f39-4893-9705-0ac00b9b3439",
   "metadata": {},
   "outputs": [],
   "source": [
    "#data=data.drop(data[data['label'] ==0].tail(500000).index) #remove the last 5,00,000 rows specifically where the label is 0. "
   ]
  },
  {
   "cell_type": "code",
   "execution_count": 11,
   "id": "c06f4ca7-0e56-46d9-b154-a0c53b9fede7",
   "metadata": {},
   "outputs": [],
   "source": [
    "#data.info()"
   ]
  },
  {
   "cell_type": "code",
   "execution_count": 12,
   "id": "9a313098-8e65-490f-bafc-fb2962f65311",
   "metadata": {},
   "outputs": [],
   "source": [
    "#data.shape"
   ]
  },
  {
   "cell_type": "code",
   "execution_count": 13,
   "id": "83be2bf2-086e-4024-93a5-14fd3e23010d",
   "metadata": {},
   "outputs": [],
   "source": [
    "#data['label'].value_counts()  "
   ]
  },
  {
   "cell_type": "markdown",
   "id": "7a816487-6558-4b6d-b744-7e1e992c1c6c",
   "metadata": {},
   "source": [
    "### HAndling missing values"
   ]
  },
  {
   "cell_type": "code",
   "execution_count": 15,
   "id": "c5b6424a-4ed2-4369-87be-0e715218ea0a",
   "metadata": {},
   "outputs": [
    {
     "data": {
      "text/plain": [
       "text     5\n",
       "label    0\n",
       "dtype: int64"
      ]
     },
     "execution_count": 15,
     "metadata": {},
     "output_type": "execute_result"
    }
   ],
   "source": [
    "data.isnull().sum()"
   ]
  },
  {
   "cell_type": "code",
   "execution_count": 16,
   "id": "9fda449f-8fa6-4022-8ff9-e9ce546e505d",
   "metadata": {},
   "outputs": [],
   "source": [
    "data.dropna(inplace=True) #removing rows having NaN values"
   ]
  },
  {
   "cell_type": "code",
   "execution_count": 17,
   "id": "0d6ea76e-5968-4c7e-a644-3ce84f275435",
   "metadata": {},
   "outputs": [
    {
     "data": {
      "text/plain": [
       "text     0\n",
       "label    0\n",
       "dtype: int64"
      ]
     },
     "execution_count": 17,
     "metadata": {},
     "output_type": "execute_result"
    }
   ],
   "source": [
    "data.isnull().sum()"
   ]
  },
  {
   "cell_type": "code",
   "execution_count": 18,
   "id": "8cbfeefa-7919-4bff-ab89-93f4bb438593",
   "metadata": {},
   "outputs": [
    {
     "data": {
      "text/plain": [
       "(9995, 2)"
      ]
     },
     "execution_count": 18,
     "metadata": {},
     "output_type": "execute_result"
    }
   ],
   "source": [
    "data.shape"
   ]
  },
  {
   "cell_type": "code",
   "execution_count": 19,
   "id": "507e0044-fa4a-4cbe-ba74-20b4280380c9",
   "metadata": {},
   "outputs": [
    {
     "data": {
      "text/plain": [
       "label\n",
       "1    5000\n",
       "0    4995\n",
       "Name: count, dtype: int64"
      ]
     },
     "execution_count": 19,
     "metadata": {},
     "output_type": "execute_result"
    }
   ],
   "source": [
    "data['label'].value_counts()    #looks balanced dataset now"
   ]
  },
  {
   "cell_type": "markdown",
   "id": "93000026-c6cc-41aa-91bc-a66298dcb5f2",
   "metadata": {},
   "source": [
    "### Working with Label"
   ]
  },
  {
   "cell_type": "code",
   "execution_count": 21,
   "id": "6fe5535b-6b94-4824-a46f-4171069be6e7",
   "metadata": {},
   "outputs": [
    {
     "data": {
      "text/plain": [
       "<Axes: xlabel='label'>"
      ]
     },
     "execution_count": 21,
     "metadata": {},
     "output_type": "execute_result"
    },
    {
     "data": {
      "image/png": "[encoded data removed]",
      "text/plain": [
       "<Figure size 640x480 with 1 Axes>"
      ]
     },
     "metadata": {},
     "output_type": "display_data"
    }
   ],
   "source": [
    "data['label'].value_counts().plot(kind='bar')"
   ]
  },
  {
   "cell_type": "code",
   "execution_count": 22,
   "id": "db48b0bd-fa88-4f6d-a8a1-288951dfb6f1",
   "metadata": {},
   "outputs": [
    {
     "data": {
      "text/plain": [
       "Text(0.5, 1.0, 'label distribution')"
      ]
     },
     "execution_count": 22,
     "metadata": {},
     "output_type": "execute_result"
    },
    {
     "data": {
      "image/png": "[encoded data removed]",
      "text/plain": [
       "<Figure size 1000x600 with 1 Axes>"
      ]
     },
     "metadata": {},
     "output_type": "display_data"
    }
   ],
   "source": [
    "plt.figure(figsize=(10,6))\n",
    "colors = ['green', 'orange']\n",
    "data['label'].value_counts().plot(kind='pie', autopct='%.1f%%',shadow = True,colors = colors,startangle = 45,\n",
    "                 explode=(0, 0.1))\n",
    "plt.title('label distribution')"
   ]
  },
  {
   "cell_type": "code",
   "execution_count": null,
   "id": "8d14ed0b-31c4-4f3f-9165-ab9ceea1b038",
   "metadata": {},
   "outputs": [],
   "source": []
  },
  {
   "cell_type": "markdown",
   "id": "ae74503b-263f-48d1-b8b9-e2559e85592c",
   "metadata": {},
   "source": [
    "### Working with Text"
   ]
  },
  {
   "cell_type": "code",
   "execution_count": 24,
   "id": "77bccd3e-af81-448a-97f1-e94d30400ab4",
   "metadata": {},
   "outputs": [
    {
     "data": {
      "text/plain": [
       "\"@jdar Every party has a pooper  Today it's you hehe\""
      ]
     },
     "execution_count": 24,
     "metadata": {},
     "output_type": "execute_result"
    }
   ],
   "source": [
    "data['text'][999]"
   ]
  },
  {
   "cell_type": "markdown",
   "id": "27d8555b-3827-4bce-a362-37d3a65122f9",
   "metadata": {},
   "source": [
    "## Cleaning text (Pre-Processing)\n",
    "\n",
    "removing HTML Tags\n",
    "\n",
    "extracting emojies # The pattern re.compile('(?::|;|=)(?:-)?(?:)|(|D|P)') is a regular expression used to match and extract emojis from a given text.\n",
    "\n",
    "removing special chars,puntuation,sumbols\n",
    "\n",
    "lower casing\n",
    "\n",
    "removing stopwords\n",
    "\n",
    "tokenization"
   ]
  },
  {
   "cell_type": "code",
   "execution_count": 26,
   "id": "db5a9d09-d8c0-4d06-aa41-f6ca87c93572",
   "metadata": {},
   "outputs": [],
   "source": [
    "import re\n",
    "import nltk\n",
    "from nltk.stem.porter import PorterStemmer\n",
    "from nltk.corpus import stopwords"
   ]
  },
  {
   "cell_type": "code",
   "execution_count": 27,
   "id": "9d1358d2-ad40-4e52-94ca-775987c0c064",
   "metadata": {},
   "outputs": [],
   "source": [
    "\n",
    "# Define stopwords and a comprehensive emoji pattern\n",
    "stopwords_set = set(stopwords.words('english'))\n",
    "emoji_pattern = re.compile(\n",
    "    '['\n",
    "    u'\\U0001F600-\\U0001F64F'  # Emoticons\n",
    "    u'\\U0001F300-\\U0001F5FF'  # Symbols & Pictographs\n",
    "    u'\\U0001F680-\\U0001F6FF'  # Transport & Map Symbols\n",
    "    u'\\U0001F700-\\U0001F77F'  # Alchemical Symbols\n",
    "    u'\\U0001F780-\\U0001F7FF'  # Geometric Shapes Extended\n",
    "    u'\\U0001F800-\\U0001F8FF'  # Supplemental Arrows-C\n",
    "    u'\\U0001F900-\\U0001F9FF'  # Supplemental Symbols and Pictographs\n",
    "    u'\\U0001FA00-\\U0001FA6F'  # Chess Symbols\n",
    "    u'\\U0001FA70-\\U0001FAFF'  # Symbols and Pictographs Extended-A\n",
    "    u'\\U00002702-\\U000027B0'  # Dingbats\n",
    "    u'\\U000024C2-\\U0001F251'  # Enclosed characters\n",
    "    ']+', flags=re.UNICODE\n",
    ")\n",
    "\n",
    "def preprocessing(text):\n",
    "    # Step 1: Remove HTML tags\n",
    "    text = re.sub(r'<[^>]*>', '', text)\n",
    "    \n",
    "    # Step 2: Extract emojis from text\n",
    "    emojis = emoji_pattern.findall(text)\n",
    "    \n",
    "    # Step 3: Remove special characters, numbers, and extra whitespace, convert text to lowercase\n",
    "    text = re.sub(r'[^a-zA-Z\\s]', ' ', text).lower()\n",
    "    \n",
    "    # Step 4: Initialize the Porter Stemmer\n",
    "    prter = PorterStemmer()\n",
    "    \n",
    "    # Step 5: Tokenize, remove stopwords, and apply stemming\n",
    "    words = [prter.stem(word) for word in text.split() if word not in stopwords_set]\n",
    "    \n",
    "    # Step 6: Combine cleaned text and extracted emojis\n",
    "    processed_text = \" \".join(words + emojis)\n",
    "    \n",
    "    return processed_text\n"
   ]
  },
  {
   "cell_type": "code",
   "execution_count": 28,
   "id": "92304134-b7da-4946-9639-f3c8e18fda52",
   "metadata": {},
   "outputs": [
    {
     "data": {
      "text/plain": [
       "'tag helo world'"
      ]
     },
     "execution_count": 28,
     "metadata": {},
     "output_type": "execute_result"
    }
   ],
   "source": [
    "##just for checking purpose\n",
    "preprocessing('this is my tags <h1> :) <p>helo world<p> <div> <div> </h2>')"
   ]
  },
  {
   "cell_type": "markdown",
   "id": "5ae9e2cd-01e7-44d0-9257-f75b8e76f8ab",
   "metadata": {},
   "source": [
    "### Using apply() function \n",
    "\n",
    "Pre-processing each text from each row of datasetusing apply() function and lambda in it"
   ]
  },
  {
   "cell_type": "code",
   "execution_count": 30,
   "id": "50162646-84a6-4de3-994f-1e61437df12f",
   "metadata": {},
   "outputs": [],
   "source": [
    "data['text'] = data['text'].apply(lambda x: preprocessing(x))"
   ]
  },
  {
   "cell_type": "code",
   "execution_count": 31,
   "id": "cf999995-74d7-46d9-9f74-e6ed79183dd2",
   "metadata": {},
   "outputs": [
    {
     "data": {
      "text/plain": [
       "0                   jesznadieh english fine sarcast ignor\n",
       "1       cheval izzat conquer tv stuck bedroom noth man...\n",
       "2        watch faber get ko mike brown st round new champ\n",
       "3                     thebrandicyru aw peopl assum alottt\n",
       "4       zachyd lulz smoke da bud sick two week think b...\n",
       "                              ...                        \n",
       "9995                                  chri remo awn thank\n",
       "9996    xoangelbabiixo babygirl thatmjgurl kevinjlov a...\n",
       "9997    ricki chotai thank actual ask everyon earlier ...\n",
       "9998                                    work miss graduat\n",
       "9999                      kellyolexa schroding cat specif\n",
       "Name: text, Length: 9995, dtype: object"
      ]
     },
     "execution_count": 31,
     "metadata": {},
     "output_type": "execute_result"
    }
   ],
   "source": [
    "data['text']"
   ]
  },
  {
   "cell_type": "markdown",
   "id": "89b29d54-045d-4c7c-96fb-17cc05beff5c",
   "metadata": {},
   "source": [
    "### Visualizing Negative and Positive Words"
   ]
  },
  {
   "cell_type": "code",
   "execution_count": 33,
   "id": "eb4cbe59-ad04-4362-8189-7420c2303b30",
   "metadata": {},
   "outputs": [
    {
     "data": {
      "image/png": "[encoded data removed]",
      "text/plain": [
       "<Figure size 1200x600 with 2 Axes>"
      ]
     },
     "metadata": {},
     "output_type": "display_data"
    }
   ],
   "source": [
    "positivedata = data[data['label'] == 1]\n",
    "positivedata = positivedata['text']\n",
    "negdata = data[data['label'] == 0]\n",
    "negdata = negdata['text']\n",
    "\n",
    "import matplotlib.pyplot as plt\n",
    "from collections import Counter\n",
    "\n",
    "# Positive data\n",
    "positivedata_words = ' '.join(positivedata).split()\n",
    "positivedata_word_counts = Counter(positivedata_words)\n",
    "positivedata_common_words = positivedata_word_counts.most_common(10)  # Display top 10 common words\n",
    "\n",
    "# Negative data\n",
    "negdata_words = ' '.join(negdata).split()\n",
    "negdata_word_counts = Counter(negdata_words)\n",
    "negdata_common_words = negdata_word_counts.most_common(10)  # Display top 10 common words\n",
    "\n",
    "# Plotting\n",
    "fig, axes = plt.subplots(1, 2, figsize=(12, 6))\n",
    "\n",
    "# Positive data word frequency\n",
    "axes[0].barh(range(len(positivedata_common_words)), [count for _, count in positivedata_common_words], align='center')\n",
    "axes[0].set_yticks(range(len(positivedata_common_words)))\n",
    "axes[0].set_yticklabels([word for word, _ in positivedata_common_words])\n",
    "axes[0].set_title('Positive Data Word Frequency')\n",
    "\n",
    "# Negative data word frequency\n",
    "axes[1].barh(range(len(negdata_common_words)), [count for _, count in negdata_common_words], align='center')\n",
    "axes[1].set_yticks(range(len(negdata_common_words)))\n",
    "axes[1].set_yticklabels([word for word, _ in negdata_common_words])\n",
    "axes[1].set_title('Negative Data Word Frequency')\n",
    "\n",
    "plt.tight_layout()\n",
    "plt.show()"
   ]
  },
  {
   "cell_type": "code",
   "execution_count": null,
   "id": "0fa8c7e4-729d-4a91-b050-46aecf657153",
   "metadata": {},
   "outputs": [],
   "source": []
  },
  {
   "cell_type": "markdown",
   "id": "d8d292e8-9ffb-4fe1-8f7b-86643988920d",
   "metadata": {},
   "source": [
    "### TF-IDF Vertorizer to convert the raw documents into feature matrix"
   ]
  },
  {
   "cell_type": "code",
   "execution_count": 35,
   "id": "a2d6769f-bafd-4bbb-b740-fc24a2444e6d",
   "metadata": {},
   "outputs": [],
   "source": [
    "from sklearn.feature_extraction.text import TfidfVectorizer\n",
    "\n",
    "tfidf=TfidfVectorizer(strip_accents=None,lowercase=False,preprocessor=None,use_idf=True,norm='l2',smooth_idf=True)\n",
    "# Separate labels and text data\n",
    "y = data['label'].values\n",
    "X = tfidf.fit_transform(data['text'])"
   ]
  },
  {
   "cell_type": "code",
   "execution_count": 36,
   "id": "430fa9fe-c791-448a-9a42-0be835553b18",
   "metadata": {},
   "outputs": [
    {
     "data": {
      "text/plain": [
       "array([1, 0, 0, ..., 1, 0, 1], dtype=int64)"
      ]
     },
     "execution_count": 36,
     "metadata": {},
     "output_type": "execute_result"
    }
   ],
   "source": [
    "data['label'].values"
   ]
  },
  {
   "cell_type": "markdown",
   "id": "0903f5d0-e0a3-4801-b739-a901f41f420b",
   "metadata": {},
   "source": [
    "### Training Machine Learning Model for Sentiment Analysis\n",
    "\n",
    "Now to train a machine learning model I will split the data into 50 percent training and 50 percent test sets:"
   ]
  },
  {
   "cell_type": "code",
   "execution_count": 38,
   "id": "e96900c0-e0e6-414c-b831-921cb9041a3d",
   "metadata": {},
   "outputs": [],
   "source": [
    "from sklearn.model_selection import train_test_split\n",
    "X_train,X_test,y_train,y_test=train_test_split(X,y,random_state=1,test_size=0.3,shuffle=False)"
   ]
  },
  {
   "cell_type": "markdown",
   "id": "5f1f340e-57a4-480b-95da-d292f0341b9f",
   "metadata": {},
   "source": [
    "### Using LogisticRegressionCV"
   ]
  },
  {
   "cell_type": "code",
   "execution_count": 40,
   "id": "5d273213-be77-4e74-8cfd-3d4d92766d54",
   "metadata": {},
   "outputs": [
    {
     "name": "stderr",
     "output_type": "stream",
     "text": [
      "[Parallel(n_jobs=-1)]: Using backend LokyBackend with 8 concurrent workers.\n",
      "[Parallel(n_jobs=-1)]: Done   3 out of   6 | elapsed:    8.9s remaining:    8.9s\n",
      "[Parallel(n_jobs=-1)]: Done   6 out of   6 | elapsed:    9.0s finished\n"
     ]
    }
   ],
   "source": [
    "from sklearn.linear_model import LogisticRegressionCV\n",
    "clf=LogisticRegressionCV(cv=6,scoring='accuracy',random_state=0,n_jobs=-1,verbose=3,max_iter=500)\n",
    "clf.fit(X_train,y_train)\n",
    "y_pred = clf.predict(X_test)"
   ]
  },
  {
   "cell_type": "markdown",
   "id": "4e987aec-b0c1-464c-b8c3-937e6011a3e5",
   "metadata": {},
   "source": [
    "### Accuracy"
   ]
  },
  {
   "cell_type": "code",
   "execution_count": 42,
   "id": "94e04da7-ce40-4193-8641-d90d6e24e2e3",
   "metadata": {},
   "outputs": [
    {
     "name": "stdout",
     "output_type": "stream",
     "text": [
      "Accuracy: 0.7252417472490831\n"
     ]
    }
   ],
   "source": [
    "from sklearn import metrics\n",
    "\n",
    "# Model Accuracy, how often is the classifier correct?\n",
    "print(\"Accuracy:\",metrics.accuracy_score(y_test, y_pred))"
   ]
  },
  {
   "cell_type": "code",
   "execution_count": null,
   "id": "f0cae9f0-367d-4b02-ba3b-0fc5302407e0",
   "metadata": {},
   "outputs": [],
   "source": []
  },
  {
   "cell_type": "code",
   "execution_count": null,
   "id": "96dfafd2-4338-4824-9846-bec56205dacd",
   "metadata": {},
   "outputs": [],
   "source": []
  },
  {
   "cell_type": "markdown",
   "id": "695b1f40-17d8-4e57-90ce-c8580d08f29d",
   "metadata": {},
   "source": [
    "## Pickle files\n",
    "\n",
    "Pickle saves Python objects to files so you can easily load and use them later.\n",
    "\n",
    "Imagine you trained a machine learning model that took hours to finish. With pickle, you can save this model so you can load it back later and skip the retraining process.\n",
    "\n",
    "Transferring Data: pickle also helps in sending Python data to other programs or even different parts of your code without changing its structure."
   ]
  },
  {
   "cell_type": "code",
   "execution_count": 79,
   "id": "5b4ebac6-ea6d-4340-8d88-e05a8e6c03bf",
   "metadata": {},
   "outputs": [],
   "source": [
    "\n",
    "import pickle\n",
    "pickle.dump(clf,open('clf.pkl','wb'))  #it will save my clf trained model in clf.pkl \n",
    "pickle.dump(tfidf,open('tfidf.pkl','wb')) #wb means write in bytes"
   ]
  },
  {
   "cell_type": "code",
   "execution_count": null,
   "id": "1c8ebfea-1cca-4fe5-88d7-be596b2e8e60",
   "metadata": {},
   "outputs": [],
   "source": []
  },
  {
   "cell_type": "markdown",
   "id": "7ac0541d-9869-4e7f-aeac-ea2bec65f4c2",
   "metadata": {},
   "source": [
    "### Predicition for testing"
   ]
  },
  {
   "cell_type": "code",
   "execution_count": 82,
   "id": "f1078dd0-d425-4b0d-aa27-658374224046",
   "metadata": {},
   "outputs": [],
   "source": [
    "def prediction(comment):\n",
    "    preprocessed_comment = preprocessing(comment)\n",
    "    comment_list = [preprocessed_comment]  # Wrap the preprocessed comment in a list\n",
    "    comment_vector = tfidf.transform(comment_list)\n",
    "    prediction = clf.predict(comment_vector)[0]\n",
    "    return prediction\n",
    "\n",
    "\n",
    "\n",
    "prediction = prediction('one cerebr insight movi ever seen script languag costum sceneri plot charact etc suprem bore watch intens even listen movi work mani time lost count scarlett age grace acquir wisdom beyond year end movi take tara ireland famili origin see result anoth civil war play time irish english movi depict doubl standard men time man still respect girlfriend whore woman mere seen privat place man societi accus improprieti cours scarlett alway think outsid box break rule necessari creat need chang help peopl surviv scarlett beauti definit bone strength self esteem wisdom grow age rememb line confront much plate tomorrow anoth day way carri determin courag learn experi good movi show daughter teach woman import respect men especi handsom one two side may treat woman differ depend act respect attract woman need learn movi teach movi like therapi better gone wind second part take place ireland anyon irish decent cherish sceneri peopl scarlett charact within')"
   ]
  },
  {
   "cell_type": "code",
   "execution_count": 84,
   "id": "08e5817e-74e9-495d-9fe1-b74bc5639f6e",
   "metadata": {},
   "outputs": [
    {
     "name": "stdout",
     "output_type": "stream",
     "text": [
      "positive comment\n"
     ]
    }
   ],
   "source": [
    "if prediction == 1:\n",
    "    print(\"positive comment\")\n",
    "else:\n",
    "    print(\"negative comment\")"
   ]
  },
  {
   "cell_type": "code",
   "execution_count": null,
   "id": "fa6afb3f-6488-425a-bd4d-cca817f7eea7",
   "metadata": {},
   "outputs": [],
   "source": []
  }
 ],
 "metadata": {
  "kernelspec": {
   "display_name": "Python 3 (ipykernel)",
   "language": "python",
   "name": "python3"
  },
  "language_info": {
   "codemirror_mode": {
    "name": "ipython",
    "version": 3
   },
   "file_extension": ".py",
   "mimetype": "text/x-python",
   "name": "python",
   "nbconvert_exporter": "python",
   "pygments_lexer": "ipython3",
   "version": "3.12.4"
  }
 },
 "nbformat": 4,
 "nbformat_minor": 5
}
